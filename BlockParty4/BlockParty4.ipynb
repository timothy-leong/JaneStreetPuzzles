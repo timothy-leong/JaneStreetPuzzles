{
 "cells": [
  {
   "cell_type": "markdown",
   "metadata": {},
   "source": [
    "Import all libraries here"
   ]
  },
  {
   "cell_type": "code",
   "execution_count": 45,
   "metadata": {},
   "outputs": [],
   "source": [
    "from typing import List, NewType, Set, Tuple\n",
    "from pprint import pprint\n",
    "from operator import mul\n",
    "from functools import reduce\n"
   ]
  },
  {
   "cell_type": "markdown",
   "metadata": {},
   "source": [
    "Set the grid length"
   ]
  },
  {
   "cell_type": "code",
   "execution_count": 46,
   "metadata": {},
   "outputs": [],
   "source": [
    "grid_length = 10\n",
    "# grid_length = 5\n"
   ]
  },
  {
   "cell_type": "markdown",
   "metadata": {},
   "source": [
    "We need a method to quickly create a grid"
   ]
  },
  {
   "cell_type": "code",
   "execution_count": 47,
   "metadata": {},
   "outputs": [],
   "source": [
    "def initialise_square_grid(length: int) -> List[List[int]]:\n",
    "    return [[0] * length for _ in range(length)]\n"
   ]
  },
  {
   "cell_type": "markdown",
   "metadata": {},
   "source": [
    "Create types for sanity checking"
   ]
  },
  {
   "cell_type": "code",
   "execution_count": 48,
   "metadata": {},
   "outputs": [],
   "source": [
    "RowIndex = NewType(\"RowIndex\", int)\n",
    "ColIndex = NewType(\"ColIndex\", int)\n",
    "Element = NewType(\"Element\", int)  # Refers to a number in our grid\n",
    "# Index of the component in the components list\n",
    "ComponentID = NewType(\"ComponentID\", int)\n",
    "ComponentIndex = NewType(\"ComponentIndex\", int)\n"
   ]
  },
  {
   "cell_type": "markdown",
   "metadata": {},
   "source": [
    "Initialise our grid"
   ]
  },
  {
   "cell_type": "code",
   "execution_count": 49,
   "metadata": {},
   "outputs": [],
   "source": [
    "grid: List[List[int]] = initialise_square_grid(grid_length)\n"
   ]
  },
  {
   "cell_type": "markdown",
   "metadata": {},
   "source": [
    "Put pre-existing numbers in a list"
   ]
  },
  {
   "cell_type": "code",
   "execution_count": 50,
   "metadata": {},
   "outputs": [],
   "source": [
    "initial_numbers: List[Tuple[RowIndex, ColIndex, Element]] = [\n",
    "    (0, 1, 3),\n",
    "    (0, 5, 7),\n",
    "    (1, 3, 4),\n",
    "    (2, 8, 2),\n",
    "    (3, 3, 1),\n",
    "    (4, 0, 6),\n",
    "    (4, 2, 1),\n",
    "    (4, 3, 1),\n",
    "    (4, 6, 1),\n",
    "    (5, 1, 1),\n",
    "    (5, 3, 5),\n",
    "    (5, 4, 1),\n",
    "    (5, 6, 1),\n",
    "    (5, 7, 3),\n",
    "    (5, 9, 6),\n",
    "    (6, 2, 2),\n",
    "    (6, 6, 2),\n",
    "    (6, 7, 1),\n",
    "    (6, 8, 2),\n",
    "    (6, 9, 3),\n",
    "    (7, 1, 2),\n",
    "    (7, 2, 1),\n",
    "    (7, 5, 1),\n",
    "    (7, 7, 1),\n",
    "    (7, 8, 4),\n",
    "    (8, 6, 6),\n",
    "    (8, 7, 2),\n",
    "    (8, 8, 3),\n",
    "    (9, 1, 6),\n",
    "    (9, 4, 5),\n",
    "    (9, 6, 4),\n",
    "    (9, 8, 2)\n",
    "]\n",
    "# initial_numbers: List[Tuple[RowIndex, ColIndex, Element]] = [\n",
    "#     (3, 0, 3),\n",
    "#     (2, 2, 4),\n",
    "#     (1, 4, 2),\n",
    "#     (2, 1, 1),\n",
    "#     (1, 3, 1),\n",
    "#     (0, 4, 4),\n",
    "#     (4, 2, 3),\n",
    "#     (4, 3, 1),\n",
    "#     (4, 4, 4)\n",
    "# ]\n"
   ]
  },
  {
   "cell_type": "markdown",
   "metadata": {},
   "source": [
    "Put components in a list"
   ]
  },
  {
   "cell_type": "code",
   "execution_count": 51,
   "metadata": {},
   "outputs": [],
   "source": [
    "components: List[List[Tuple[RowIndex, ColIndex]]] = [\n",
    "    [(0, 0), (1, 0), (1, 1), (2, 0), (2, 1),\n",
    "     (3, 0), (3, 1), (4, 0), (5, 0), (6, 0)],\n",
    "    [(5, 1)],\n",
    "    [(0, 1), (0, 2), (0, 3), (1, 2), (1, 3), (1, 4)],\n",
    "    [(0, 4), (0, 5), (0, 6), (0, 7), (0, 8), (0, 9), (1, 5), (1, 8), (1, 9)],\n",
    "    [(1, 6), (1, 7), (2, 7)],\n",
    "    [(2, 4), (2, 5)],\n",
    "    [(2, 2), (2, 3), (3, 3)],\n",
    "    [(3, 2), (4, 1), (4, 2), (5, 2)],\n",
    "    [(6, 1), (7, 0), (7, 1), (8, 0), (8, 1),\n",
    "     (8, 2), (9, 0), (9, 1), (9, 2), (9, 3)],\n",
    "    [(2, 6), (3, 5), (3, 6), (3, 7), (4, 7), (4, 8)],\n",
    "    [(3, 4), (4, 3), (4, 4)],\n",
    "    [(4, 5), (5, 5)],\n",
    "    [(4, 6)],\n",
    "    [(5, 3), (6, 3), (6, 4), (6, 5), (7, 4)],\n",
    "    [(5, 4)],\n",
    "    [(5, 6), (5, 7), (6, 6)],\n",
    "    [(6, 2), (7, 2)],\n",
    "    [(6, 7), (6, 8), (6, 9)],\n",
    "    [(2, 8), (2, 9), (3, 8), (3, 9), (4, 9), (5, 8), (5, 9)],\n",
    "    [(7, 6), (7, 9), (8, 5), (8, 6), (8, 9), (9, 6), (9, 7), (9, 8), (9, 9)],\n",
    "    [(7, 7), (7, 8), (8, 7), (8, 8)],\n",
    "    [(7, 3), (8, 3), (8, 4), (9, 4), (9, 5)],\n",
    "    [(7, 5)]\n",
    "]\n",
    "\n",
    "# components: List[List[Tuple[RowIndex, ColIndex]]] = [\n",
    "#     [(0, 0), (0, 1), (1, 1), (1, 2), (2, 2)],\n",
    "#     [(2, 1)],\n",
    "#     [(1, 0), (2, 0), (3, 0), (4, 0), (4, 1)],\n",
    "#     [(3, 1), (3, 2), (4, 2)],\n",
    "#     [(4, 3)],\n",
    "#     [(2, 3), (3, 3), (3, 4), (4, 4)],\n",
    "#     [(1, 3)],\n",
    "#     [(0, 2), (0, 3), (0, 4), (1, 4), (2, 4)]\n",
    "# ]\n",
    "\n",
    "# components.sort(key=lambda x: len(x), reverse=True)\n"
   ]
  },
  {
   "cell_type": "code",
   "execution_count": 52,
   "metadata": {},
   "outputs": [
    {
     "name": "stdout",
     "output_type": "stream",
     "text": [
      "100\n"
     ]
    }
   ],
   "source": [
    "print(sum(map(lambda x: len(x), components)))\n"
   ]
  },
  {
   "cell_type": "markdown",
   "metadata": {},
   "source": [
    "Perform sanity check on our components"
   ]
  },
  {
   "cell_type": "code",
   "execution_count": 53,
   "metadata": {},
   "outputs": [],
   "source": [
    "tuple_set: Set[Tuple[RowIndex, ColIndex]] = {\n",
    "    tup for component in components for tup in component}\n",
    "for i in range(grid_length):\n",
    "    for j in range(grid_length):\n",
    "        if (i, j) not in tuple_set:\n",
    "            raise Exception((i, j), \"not accounted for\")\n"
   ]
  },
  {
   "cell_type": "markdown",
   "metadata": {},
   "source": [
    "Map all cells to their component within the component list"
   ]
  },
  {
   "cell_type": "code",
   "execution_count": 54,
   "metadata": {},
   "outputs": [],
   "source": [
    "cell_index: List[List[int]] = initialise_square_grid(grid_length)\n",
    "\n",
    "for component_id in range(len(components)):\n",
    "    for row, col in components[component_id]:\n",
    "        cell_index[row][col] = component_id\n"
   ]
  },
  {
   "cell_type": "markdown",
   "metadata": {},
   "source": [
    "We need a function to get the component id of a cell"
   ]
  },
  {
   "cell_type": "code",
   "execution_count": 55,
   "metadata": {},
   "outputs": [],
   "source": [
    "\n",
    "def get_component_id(row: RowIndex, col: ColIndex) -> int:\n",
    "    \"\"\"\n",
    "    Returns the component number of this cell.\n",
    "    \"\"\"\n",
    "    return cell_index[row][col]\n"
   ]
  },
  {
   "cell_type": "markdown",
   "metadata": {},
   "source": [
    "For each component, we will need to track which numbers we have already inserted"
   ]
  },
  {
   "cell_type": "code",
   "execution_count": 56,
   "metadata": {},
   "outputs": [],
   "source": [
    "numbers_used: List[List[bool]] = [\n",
    "    [False] * len(component) for component in components]\n"
   ]
  },
  {
   "cell_type": "markdown",
   "metadata": {},
   "source": [
    "We need a function to check if a particular component needs a number n, that is, if n is less than or equal to the size of the component and no cell in that component currently has n"
   ]
  },
  {
   "cell_type": "code",
   "execution_count": 57,
   "metadata": {},
   "outputs": [],
   "source": [
    "def needs(component: ComponentID, num: int) -> bool:\n",
    "    return num <= len(components[component]) \\\n",
    "        and not numbers_used[component][num - 1]  # The -1 is due to 0-indexing of arrays\n"
   ]
  },
  {
   "cell_type": "markdown",
   "metadata": {},
   "source": [
    "Write a function to get all cells that are exactly distance k away from a given cell"
   ]
  },
  {
   "cell_type": "code",
   "execution_count": 58,
   "metadata": {},
   "outputs": [],
   "source": [
    "def distance_k_away(grid: List[List[int]], row: RowIndex, col: ColIndex, k: int) -> List[Tuple[RowIndex, ColIndex]]:\n",
    "    result: List[Tuple[RowIndex, ColIndex]] = []\n",
    "    for possible_row in range(max(0, row - k), min(len(grid) - 1, row + k) + 1):\n",
    "        column_offset: int = k - abs(row - possible_row)\n",
    "        possible_columns = [col + column_offset, col - column_offset]\n",
    "        for column in possible_columns:\n",
    "            if 0 <= column < len(grid[0]):\n",
    "                result.append((possible_row, column))\n",
    "\n",
    "    return result\n"
   ]
  },
  {
   "cell_type": "markdown",
   "metadata": {},
   "source": [
    "We also need a function to check if there's a cell with a particular number within distance less than k of a cell:"
   ]
  },
  {
   "cell_type": "code",
   "execution_count": 59,
   "metadata": {},
   "outputs": [],
   "source": [
    "def have_number_less_than_distance_k(grid: List[List[int]],\n",
    "                                     row: RowIndex,\n",
    "                                     col: ColIndex,\n",
    "                                     desiredNumber: int,\n",
    "                                     k: int) -> bool:\n",
    "    for distance in range(1, k):  # [1, ..., k - 1]\n",
    "        cells: List[Tuple[RowIndex, ColIndex]] = distance_k_away(\n",
    "            grid, row, col, distance)\n",
    "        for r, c in cells:\n",
    "            if grid[r][c] == desiredNumber:\n",
    "                return True\n",
    "    return False\n"
   ]
  },
  {
   "cell_type": "markdown",
   "metadata": {},
   "source": [
    "We need a function to insert a number into a grid. It should update the grid, and update `numbers_used`. We also need the undo-er for this function"
   ]
  },
  {
   "cell_type": "code",
   "execution_count": 60,
   "metadata": {},
   "outputs": [],
   "source": [
    "def insert(grid: List[List[int]], row: RowIndex, col: ColIndex, num: int) -> None:\n",
    "    grid[row][col] = num\n",
    "    numbers_used[get_component_id(row, col)][num - 1] = True\n",
    "\n",
    "\n",
    "def remove(grid: List[List[int]], row: RowIndex, col: ColIndex) -> None:\n",
    "    numbers_used[get_component_id(row, col)][grid[row][col] - 1] = False\n",
    "    grid[row][col] = 0\n"
   ]
  },
  {
   "cell_type": "markdown",
   "metadata": {},
   "source": [
    "Insert pre-existing numbers into the grid and the `numbers_used` map"
   ]
  },
  {
   "cell_type": "code",
   "execution_count": 61,
   "metadata": {},
   "outputs": [],
   "source": [
    "for row, column, element in initial_numbers:\n",
    "    insert(grid, row, column, element)\n"
   ]
  },
  {
   "cell_type": "markdown",
   "metadata": {},
   "source": [
    "Define a backtracking function to try inserting numbers into the grid using brute-force (with pruning)"
   ]
  },
  {
   "cell_type": "code",
   "execution_count": 62,
   "metadata": {},
   "outputs": [],
   "source": [
    "def backtrack(grid: List[List[int]],\n",
    "              component_id: ComponentID = 0,\n",
    "              component_index: ComponentIndex = 0) -> bool:\n",
    "    # If you've reached past the last component, you've succeeded\n",
    "    if component_id == len(components):\n",
    "        return True\n",
    "\n",
    "    # If you've reached the end of a component, go to the next component\n",
    "    if component_index == len(components[component_id]):\n",
    "        return backtrack(grid, component_id + 1, 0)\n",
    "\n",
    "    row, col = components[component_id][component_index]\n",
    "\n",
    "    if grid[row][col] == 0:  # You need to try every possible number\n",
    "        # The size of this component determines\n",
    "        # the range of possible numbers\n",
    "        size_of_component: int = len(components[component_id])\n",
    "\n",
    "        for possible_num in range(1, size_of_component + 1):\n",
    "            if not numbers_used[component_id][possible_num - 1] \\\n",
    "                    and not have_number_less_than_distance_k(grid, row, col, possible_num, possible_num):\n",
    "                # Then try using this number\n",
    "                insert(grid, row, col, possible_num)\n",
    "\n",
    "                if backtrack(grid, component_id, component_index):\n",
    "                    return True\n",
    "\n",
    "                remove(grid, row, col)\n",
    "\n",
    "        # If there is no number that you can put here, it's a lost cause\n",
    "        return False\n",
    "\n",
    "    # There's a number here, which means either it pre-existed, or some other number\n",
    "    # gave you this number. We cannot just delete it if we can't succeed in filling up the\n",
    "    # rest of the grid, we can only report the failure.\n",
    "\n",
    "    this_number: Element = grid[row][col]\n",
    "\n",
    "    # Get all cells that are this_number away\n",
    "    neighbours: List[Tuple[RowIndex, ColIndex]\n",
    "                     ] = distance_k_away(grid, row, col, this_number)\n",
    "\n",
    "    # If any cells have this_number, we don't need to create any more of this_number. Move on\n",
    "    for r, c in neighbours:\n",
    "        if grid[r][c] == this_number:\n",
    "            return backtrack(grid, component_id, component_index + 1)\n",
    "\n",
    "    # Filter out all cells that have a number other than 0\n",
    "    neighbours = [(row, col)\n",
    "                  for (row, col) in neighbours if grid[row][col] == 0]\n",
    "\n",
    "    # Try setting each of them to this_number, and see if you can complete the grid this way\n",
    "    for row, col in neighbours:\n",
    "        # See if that component needs this_number or not\n",
    "        if not needs(get_component_id(row, col), this_number):\n",
    "            continue\n",
    "\n",
    "        # See if there's a cell with this_number that's too close to the neighbour\n",
    "        if have_number_less_than_distance_k(grid, row, col, this_number, this_number):\n",
    "            continue\n",
    "\n",
    "        insert(grid, row, col, this_number)\n",
    "\n",
    "        # Go on with your life, see whether you succeed\n",
    "        if backtrack(grid, component_id, component_index + 1):\n",
    "            return True\n",
    "\n",
    "        # Ok you failed, but you still have more neighbours to try\n",
    "        remove(grid, row, col)\n",
    "\n",
    "    # If you've tried all neighbours, and nobody can be this_number away from you, it's a lost cause\n",
    "    return False\n"
   ]
  },
  {
   "cell_type": "markdown",
   "metadata": {},
   "source": [
    "Try solving the grid:"
   ]
  },
  {
   "cell_type": "code",
   "execution_count": 63,
   "metadata": {},
   "outputs": [],
   "source": [
    "backtrack(grid)\n"
   ]
  },
  {
   "cell_type": "markdown",
   "metadata": {},
   "source": [
    "Let's see what we got!"
   ]
  },
  {
   "cell_type": "code",
   "execution_count": null,
   "metadata": {},
   "outputs": [
    {
     "name": "stdout",
     "output_type": "stream",
     "text": [
      "[[5, 2, 1, 3, 4],\n",
      " [2, 3, 1, 1, 2],\n",
      " [1, 1, 4, 2, 5],\n",
      " [3, 1, 2, 1, 3],\n",
      " [4, 5, 3, 1, 4]]\n"
     ]
    }
   ],
   "source": [
    "pprint(grid)\n"
   ]
  },
  {
   "cell_type": "markdown",
   "metadata": {},
   "source": [
    "Now let's write a function to multiply numbers along a row and sum up the products across rows:"
   ]
  },
  {
   "cell_type": "code",
   "execution_count": null,
   "metadata": {},
   "outputs": [],
   "source": [
    "def calculateGrid(grid: List[List[int]]) -> int:\n",
    "    return sum(map(lambda x: reduce(mul, x), grid))\n"
   ]
  },
  {
   "cell_type": "code",
   "execution_count": null,
   "metadata": {},
   "outputs": [
    {
     "data": {
      "text/plain": [
       "430"
      ]
     },
     "execution_count": 44,
     "metadata": {},
     "output_type": "execute_result"
    }
   ],
   "source": [
    "calculateGrid(grid)\n"
   ]
  }
 ],
 "metadata": {
  "interpreter": {
   "hash": "916dbcbb3f70747c44a77c7bcd40155683ae19c65e1c03b4aa3499c5328201f1"
  },
  "kernelspec": {
   "display_name": "Python 3.10.4 64-bit",
   "language": "python",
   "name": "python3"
  },
  "language_info": {
   "codemirror_mode": {
    "name": "ipython",
    "version": 3
   },
   "file_extension": ".py",
   "mimetype": "text/x-python",
   "name": "python",
   "nbconvert_exporter": "python",
   "pygments_lexer": "ipython3",
   "version": "3.10.4"
  },
  "orig_nbformat": 4
 },
 "nbformat": 4,
 "nbformat_minor": 2
}
