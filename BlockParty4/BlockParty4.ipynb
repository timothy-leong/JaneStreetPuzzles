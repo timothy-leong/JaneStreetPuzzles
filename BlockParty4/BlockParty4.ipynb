{
 "cells": [
  {
   "cell_type": "markdown",
   "metadata": {},
   "source": [
    "Import all libraries here"
   ]
  },
  {
   "cell_type": "code",
   "execution_count": null,
   "metadata": {},
   "outputs": [],
   "source": [
    "from typing import List, NewType, Set, Tuple, Iterable\n",
    "from pprint import pprint\n",
    "from operator import mul\n",
    "from functools import reduce\n",
    "import numpy as np\n"
   ]
  },
  {
   "cell_type": "markdown",
   "metadata": {},
   "source": [
    "Set the grid length"
   ]
  },
  {
   "cell_type": "code",
   "execution_count": null,
   "metadata": {},
   "outputs": [],
   "source": [
    "grid_length = 10\n",
    "# grid_length = 5\n"
   ]
  },
  {
   "cell_type": "markdown",
   "metadata": {},
   "source": [
    "We need a method to quickly create a grid"
   ]
  },
  {
   "cell_type": "code",
   "execution_count": null,
   "metadata": {},
   "outputs": [],
   "source": [
    "def initialise_square_grid(length: int) -> np.ndarray:\n",
    "    return np.zeros((length, length), dtype=int)\n"
   ]
  },
  {
   "cell_type": "markdown",
   "metadata": {},
   "source": [
    "Create types for sanity checking"
   ]
  },
  {
   "cell_type": "code",
   "execution_count": null,
   "metadata": {},
   "outputs": [],
   "source": [
    "RowIndex = NewType(\"RowIndex\", int)\n",
    "ColIndex = NewType(\"ColIndex\", int)\n",
    "Element = NewType(\"Element\", int)  # Refers to a number in our grid\n",
    "# Index of the component in the components list\n",
    "ComponentID = NewType(\"ComponentID\", int)\n",
    "ComponentIndex = NewType(\"ComponentIndex\", int)\n"
   ]
  },
  {
   "cell_type": "markdown",
   "metadata": {},
   "source": [
    "Initialise our grid"
   ]
  },
  {
   "cell_type": "code",
   "execution_count": null,
   "metadata": {},
   "outputs": [],
   "source": [
    "grid: np.ndarray = initialise_square_grid(grid_length)\n"
   ]
  },
  {
   "cell_type": "markdown",
   "metadata": {},
   "source": [
    "Put pre-existing numbers in a list"
   ]
  },
  {
   "cell_type": "code",
   "execution_count": null,
   "metadata": {},
   "outputs": [],
   "source": [
    "initial_numbers: List[Tuple[RowIndex, ColIndex, Element]] = [\n",
    "    (0, 1, 3),\n",
    "    (0, 5, 7),\n",
    "    (1, 3, 4),\n",
    "    (2, 8, 2),\n",
    "    (3, 3, 1),\n",
    "    (4, 0, 6),\n",
    "    (4, 2, 1),\n",
    "    (5, 7, 3),\n",
    "    (5, 9, 6),\n",
    "    (6, 6, 2),\n",
    "    (7, 1, 2),\n",
    "    (8, 6, 6),\n",
    "    (9, 4, 5),\n",
    "    (9, 8, 2)\n",
    "]\n",
    "# initial_numbers: List[Tuple[RowIndex, ColIndex, Element]] = [\n",
    "#     (1, 4, 2),\n",
    "#     (2, 2, 4),\n",
    "#     (3, 0, 3)\n",
    "# ]\n"
   ]
  },
  {
   "cell_type": "markdown",
   "metadata": {},
   "source": [
    "Put components in a list"
   ]
  },
  {
   "cell_type": "code",
   "execution_count": null,
   "metadata": {},
   "outputs": [],
   "source": [
    "components: List[List[Tuple[RowIndex, ColIndex]]] = [\n",
    "    [(0, 0), (1, 0), (1, 1), (2, 0), (2, 1),\n",
    "     (3, 0), (3, 1), (4, 0), (5, 0), (6, 0)],\n",
    "    [(5, 1)],\n",
    "    [(0, 1), (0, 2), (0, 3), (1, 2), (1, 3), (1, 4)],\n",
    "    [(0, 4), (0, 5), (0, 6), (0, 7), (0, 8), (0, 9), (1, 5), (1, 8), (1, 9)],\n",
    "    [(1, 6), (1, 7), (2, 7)],\n",
    "    [(2, 4), (2, 5)],\n",
    "    [(2, 2), (2, 3), (3, 3)],\n",
    "    [(3, 2), (4, 1), (4, 2), (5, 2)],\n",
    "    [(6, 1), (7, 0), (7, 1), (8, 0), (8, 1),\n",
    "     (8, 2), (9, 0), (9, 1), (9, 2), (9, 3)],\n",
    "    [(2, 6), (3, 5), (3, 6), (3, 7), (4, 7), (4, 8)],\n",
    "    [(3, 4), (4, 3), (4, 4)],\n",
    "    [(4, 5), (5, 5)],\n",
    "    [(4, 6)],\n",
    "    [(5, 3), (6, 3), (6, 4), (6, 5), (7, 4)],\n",
    "    [(5, 4)],\n",
    "    [(5, 6), (5, 7), (6, 6)],\n",
    "    [(6, 2), (7, 2)],\n",
    "    [(6, 7), (6, 8), (6, 9)],\n",
    "    [(2, 8), (2, 9), (3, 8), (3, 9), (4, 9), (5, 8), (5, 9)],\n",
    "    [(7, 6), (7, 9), (8, 5), (8, 6), (8, 9), (9, 6), (9, 7), (9, 8), (9, 9)],\n",
    "    [(7, 7), (7, 8), (8, 7), (8, 8)],\n",
    "    [(7, 3), (8, 3), (8, 4), (9, 4), (9, 5)],\n",
    "    [(7, 5)]\n",
    "]\n",
    "\n",
    "# components: List[List[Tuple[RowIndex, ColIndex]]] = [\n",
    "#     [(0, 0), (0, 1), (1, 1), (1, 2), (2, 2)],\n",
    "#     [(2, 1)],\n",
    "#     [(1, 0), (2, 0), (3, 0), (4, 0), (4, 1)],\n",
    "#     [(3, 1), (3, 2), (4, 2)],\n",
    "#     [(4, 3)],\n",
    "#     [(2, 3), (3, 3), (3, 4), (4, 4)],\n",
    "#     [(1, 3)],\n",
    "#     [(0, 2), (0, 3), (0, 4), (1, 4), (2, 4)]\n",
    "# ]\n"
   ]
  },
  {
   "cell_type": "code",
   "execution_count": null,
   "metadata": {},
   "outputs": [],
   "source": [
    "print(sum(map(lambda x: len(x), components)))\n"
   ]
  },
  {
   "cell_type": "markdown",
   "metadata": {},
   "source": [
    "Perform sanity check on our components"
   ]
  },
  {
   "cell_type": "code",
   "execution_count": null,
   "metadata": {},
   "outputs": [],
   "source": [
    "tuple_set: Set[Tuple[RowIndex, ColIndex]] = {\n",
    "    tup for component in components for tup in component}\n",
    "\n",
    "for i in range(grid_length):\n",
    "    for j in range(grid_length):\n",
    "        if (i, j) not in tuple_set:\n",
    "            raise Exception((i, j), \"not accounted for\")\n"
   ]
  },
  {
   "cell_type": "markdown",
   "metadata": {},
   "source": [
    "Map all cells to their component within the component list"
   ]
  },
  {
   "cell_type": "code",
   "execution_count": null,
   "metadata": {},
   "outputs": [],
   "source": [
    "cell_index: np.ndarray = initialise_square_grid(grid_length)\n",
    "\n",
    "for component_id in range(len(components)):\n",
    "    for row, col in components[component_id]:\n",
    "        cell_index[row][col] = component_id\n"
   ]
  },
  {
   "cell_type": "markdown",
   "metadata": {},
   "source": [
    "We need a function to get the component id of a cell"
   ]
  },
  {
   "cell_type": "code",
   "execution_count": null,
   "metadata": {},
   "outputs": [],
   "source": [
    "\n",
    "def get_component_id(row: RowIndex, col: ColIndex) -> int:\n",
    "    \"\"\"\n",
    "    Returns the component number of this cell.\n",
    "    \"\"\"\n",
    "    return cell_index[row][col]\n"
   ]
  },
  {
   "cell_type": "markdown",
   "metadata": {},
   "source": [
    "For each component, we will need to track which numbers we have already inserted"
   ]
  },
  {
   "cell_type": "code",
   "execution_count": null,
   "metadata": {},
   "outputs": [],
   "source": [
    "numbers_used: np.ndarray = np.zeros(len(components), dtype=int)"
   ]
  },
  {
   "cell_type": "markdown",
   "metadata": {},
   "source": [
    "We need a function to check if a particular component needs a number n, that is, if n is less than or equal to the size of the component and no cell in that component currently has n"
   ]
  },
  {
   "cell_type": "code",
   "execution_count": null,
   "metadata": {},
   "outputs": [],
   "source": [
    "def needs(component: ComponentID, num: int) -> bool:\n",
    "    return num <= len(components[component]) \\\n",
    "        and (numbers_used[component] & (1 << num)) == 0\n"
   ]
  },
  {
   "cell_type": "markdown",
   "metadata": {},
   "source": [
    "Write a function to get all cells that are exactly distance k away from a given cell"
   ]
  },
  {
   "cell_type": "code",
   "execution_count": null,
   "metadata": {},
   "outputs": [],
   "source": [
    "def distance_k_away(grid: np.ndarray, row: RowIndex, col: ColIndex, k: int) -> Iterable[Tuple[RowIndex, ColIndex]]:\n",
    "    for possible_row in range(max(0, row - k), min(len(grid) - 1, row + k) + 1):\n",
    "        column_offset: int = k - abs(row - possible_row)\n",
    "        possible_columns = [col + column_offset, col - column_offset]\n",
    "        for column in possible_columns:\n",
    "            if 0 <= column < len(grid[0]):\n",
    "                yield possible_row, column\n",
    "\n",
    "            if column_offset == 0:\n",
    "                break\n",
    "\n"
   ]
  },
  {
   "cell_type": "markdown",
   "metadata": {},
   "source": [
    "We also need a function to check if there's a cell with a particular number within distance less than k of a cell:"
   ]
  },
  {
   "cell_type": "code",
   "execution_count": null,
   "metadata": {},
   "outputs": [],
   "source": [
    "def have_number_less_than_distance_k(grid: np.ndarray,\n",
    "                                     row: RowIndex,\n",
    "                                     col: ColIndex,\n",
    "                                     desiredNumber: int,\n",
    "                                     k: int) -> bool:\n",
    "    for distance in range(1, k):  # [1, ..., k - 1]\n",
    "        for r, c in distance_k_away(grid, row, col, distance):\n",
    "            if grid[r][c] == desiredNumber:\n",
    "                return True\n",
    "    return False\n"
   ]
  },
  {
   "cell_type": "markdown",
   "metadata": {},
   "source": [
    "We need a function to insert a number into a grid. It should update the grid, and update `numbers_used`. We also need the undo-er for this function"
   ]
  },
  {
   "cell_type": "code",
   "execution_count": null,
   "metadata": {},
   "outputs": [],
   "source": [
    "def insert(grid: np.ndarray, row: RowIndex, col: ColIndex, num: int) -> None:\n",
    "    grid[row][col] = num\n",
    "    numbers_used[get_component_id(row, col)] |= (1 << num)\n",
    "\n",
    "\n",
    "def remove(grid: np.ndarray, row: RowIndex, col: ColIndex) -> None:\n",
    "    num: int = grid[row][col]\n",
    "    numbers_used[get_component_id(row, col)] &= ~(1 << num)\n",
    "    grid[row][col] = 0\n"
   ]
  },
  {
   "cell_type": "markdown",
   "metadata": {},
   "source": [
    "Insert pre-existing numbers into the grid and the `numbers_used` map"
   ]
  },
  {
   "cell_type": "code",
   "execution_count": null,
   "metadata": {},
   "outputs": [],
   "source": [
    "for row, column, element in initial_numbers:\n",
    "    insert(grid, row, column, element)\n",
    "\n",
    "pprint(grid)\n"
   ]
  },
  {
   "cell_type": "markdown",
   "metadata": {},
   "source": [
    "We need to solve for as many cells as possible to ensure that backtracking does as little as possible"
   ]
  },
  {
   "cell_type": "code",
   "execution_count": null,
   "metadata": {},
   "outputs": [],
   "source": [
    "def partial_solve(grid: np.ndarray):\n",
    "    while 1:\n",
    "        made_progress: bool = False\n",
    "\n",
    "        # For all components with only one number not filled in, fill it in\n",
    "        # and finish that component\n",
    "        for component in range(len(components)):\n",
    "            if bin(numbers_used[component]).count(\"1\") == (len(components[component]) - 1):\n",
    "                index = 0\n",
    "                while (numbers_used[component] & (1 << index)) == 1:\n",
    "                    index += 1\n",
    "\n",
    "                for row, col in components[component]:\n",
    "                    if grid[row][col] == 0:\n",
    "                        # The + 1 is due to 0-indexing\n",
    "                        insert(grid, row, col, index + 1)\n",
    "                        made_progress = True\n",
    "                        break\n",
    "\n",
    "        # For all components c and unfilled numbers u, if u has only one spot\n",
    "        # it can go into, fill that in\n",
    "        for component in range(len(components)):\n",
    "            for number in range(1, len(components[component]) + 1):\n",
    "                if not (numbers_used[component] & (1 << number)):\n",
    "                    # Get all unfilled squares\n",
    "                    unfilled_squares = [(row, col) for (\n",
    "                        row, col) in components[component] if grid[row][col] == 0]\n",
    "\n",
    "                    # For each square, see how many squares might be a candidate\n",
    "                    candidates = [(row, col) for (row, col) in unfilled_squares if not have_number_less_than_distance_k(\n",
    "                        grid, row, col, number, number)]\n",
    "                    if len(candidates) == 1:\n",
    "                        # Only 1 square where this number can be filled\n",
    "                        insert(grid, candidates[0][0],\n",
    "                               candidates[0][1], number)\n",
    "                        made_progress = True\n",
    "\n",
    "        # For all currently filled numbers, if there is only one empty square that can be its nearest neighbour,\n",
    "        # then that one empty square must contain that number\n",
    "        for row in range(len(grid)):\n",
    "            for col in range(len(grid[0])):\n",
    "                if grid[row][col] > 0:\n",
    "                    # Find all candidates for its nearest neighbours\n",
    "                    neighbours: List[Tuple[RowIndex, ColIndex]\n",
    "                                     ] = list(distance_k_away(grid, row, col, grid[row][col]))\n",
    "\n",
    "                    # Remove all neighbours that are from the same component\n",
    "                    neighbours = list(set(neighbours).difference(\n",
    "                        set(components[get_component_id(row, col)])))\n",
    "\n",
    "                    # If this cell already has a nearest neighbour, move on\n",
    "                    if [(r, c) for (r, c) in neighbours if grid[r][c] == grid[row][col]]:\n",
    "                        continue\n",
    "\n",
    "                    candidates = [(r, c)\n",
    "                                  for (r, c) in neighbours if grid[r][c] == 0]\n",
    "\n",
    "                    if len(candidates) == 1:\n",
    "                        insert(grid, candidates[0][0],\n",
    "                               candidates[0][1], grid[row][col])\n",
    "                        made_progress = True\n",
    "\n",
    "        if not made_progress:\n",
    "            break\n"
   ]
  },
  {
   "cell_type": "code",
   "execution_count": null,
   "metadata": {},
   "outputs": [],
   "source": [
    "partial_solve(grid)\n",
    "pprint(grid)\n",
    "\n",
    "# solved = 0\n",
    "# for row in grid:\n",
    "#     for num in row:\n",
    "#         if num > 0:\n",
    "#             solved += 1\n",
    "\n",
    "# print(solved)\n"
   ]
  },
  {
   "cell_type": "markdown",
   "metadata": {},
   "source": [
    "Define a backtracking function to try inserting numbers into the grid using brute-force (with pruning)"
   ]
  },
  {
   "cell_type": "code",
   "execution_count": null,
   "metadata": {},
   "outputs": [],
   "source": [
    "def backtrack(grid: np.ndarray,\n",
    "              component_id: ComponentID = 0,\n",
    "              component_index: ComponentIndex = 0) -> bool:\n",
    "    # If you've reached past the last component, you've succeeded\n",
    "    if component_id == len(components):\n",
    "        return True\n",
    "\n",
    "    # If you've reached the end of a component, go to the next component\n",
    "    if component_index == len(components[component_id]):\n",
    "        return backtrack(grid, component_id + 1, 0)\n",
    "\n",
    "    row, col = components[component_id][component_index]\n",
    "\n",
    "    if grid[row][col] == 0:  # You need to try every possible number\n",
    "        # The size of this component determines\n",
    "        # the range of possible numbers\n",
    "        size_of_component: int = len(components[component_id])\n",
    "\n",
    "        for possible_num in range(1, size_of_component + 1):\n",
    "            if not (numbers_used[component_id] & (1 << possible_num)) \\\n",
    "                    and not have_number_less_than_distance_k(grid, row, col, possible_num, possible_num):\n",
    "                # Then try using this number\n",
    "                insert(grid, row, col, possible_num)\n",
    "\n",
    "                if backtrack(grid, component_id, component_index):\n",
    "                    return True\n",
    "\n",
    "                remove(grid, row, col)\n",
    "\n",
    "        # If there is no number that you can put here, it's a lost cause\n",
    "        return False\n",
    "\n",
    "    # There's a number here, which means either it pre-existed, or some other number\n",
    "    # gave you this number. We cannot just delete it if we can't succeed in filling up the\n",
    "    # rest of the grid, we can only report the failure.\n",
    "\n",
    "    this_number: Element = grid[row][col]\n",
    "\n",
    "    # Get all cells that are this_number away\n",
    "    neighbours: List[Tuple[RowIndex, ColIndex]\n",
    "                     ] = list(distance_k_away(grid, row, col, this_number))\n",
    "\n",
    "    # If any cells have this_number, we don't need to create any more of this_number. Move on\n",
    "    for r, c in neighbours:\n",
    "        if grid[r][c] == this_number:\n",
    "            return backtrack(grid, component_id, component_index + 1)\n",
    "\n",
    "    # Try setting each of them to this_number, and see if you can complete the grid this way\n",
    "    for row, col in neighbours:\n",
    "        # Filter out all cells that have a number other than 0\n",
    "        if grid[row][col] > 0 or \\\n",
    "                not needs(get_component_id(row, col), this_number) or \\\n",
    "                have_number_less_than_distance_k(grid, row, col, this_number, this_number):\n",
    "            continue\n",
    "\n",
    "        insert(grid, row, col, this_number)\n",
    "\n",
    "        # Go on with your life, see whether you succeed\n",
    "        if backtrack(grid, component_id, component_index + 1):\n",
    "            return True\n",
    "\n",
    "        # Ok you failed, but you still have more neighbours to try\n",
    "        remove(grid, row, col)\n",
    "\n",
    "    # If you've tried all neighbours, and nobody can be this_number away from you, it's a lost cause\n",
    "    return False\n"
   ]
  },
  {
   "cell_type": "markdown",
   "metadata": {},
   "source": [
    "Try solving the grid:"
   ]
  },
  {
   "cell_type": "code",
   "execution_count": null,
   "metadata": {},
   "outputs": [],
   "source": [
    "backtrack(grid)\n"
   ]
  },
  {
   "cell_type": "markdown",
   "metadata": {},
   "source": [
    "Let's see what we got!"
   ]
  },
  {
   "cell_type": "code",
   "execution_count": null,
   "metadata": {},
   "outputs": [],
   "source": [
    "pprint(grid)\n"
   ]
  },
  {
   "cell_type": "markdown",
   "metadata": {},
   "source": [
    "Now let's write a function to multiply numbers along a row and sum up the products across rows:"
   ]
  },
  {
   "cell_type": "code",
   "execution_count": null,
   "metadata": {},
   "outputs": [],
   "source": [
    "def calculateGrid(grid: List[List[int]]) -> int:\n",
    "    return sum(map(lambda x: reduce(mul, x), grid))\n"
   ]
  },
  {
   "cell_type": "code",
   "execution_count": null,
   "metadata": {},
   "outputs": [],
   "source": [
    "calculateGrid(grid)\n"
   ]
  }
 ],
 "metadata": {
  "interpreter": {
   "hash": "916dbcbb3f70747c44a77c7bcd40155683ae19c65e1c03b4aa3499c5328201f1"
  },
  "kernelspec": {
   "display_name": "Python 3.10.4 64-bit",
   "language": "python",
   "name": "python3"
  },
  "language_info": {
   "codemirror_mode": {
    "name": "ipython",
    "version": 3
   },
   "file_extension": ".py",
   "mimetype": "text/x-python",
   "name": "python",
   "nbconvert_exporter": "python",
   "pygments_lexer": "ipython3",
   "version": "3.10.4"
  },
  "orig_nbformat": 4
 },
 "nbformat": 4,
 "nbformat_minor": 2
}
