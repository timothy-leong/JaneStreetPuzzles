{
 "cells": [
  {
   "attachments": {},
   "cell_type": "markdown",
   "metadata": {},
   "source": [
    "Import all required libraries"
   ]
  },
  {
   "cell_type": "code",
   "execution_count": 1,
   "metadata": {},
   "outputs": [],
   "source": [
    "from die import Die\n",
    "from grid import grid\n",
    "from numpy import array, ndarray"
   ]
  },
  {
   "attachments": {},
   "cell_type": "markdown",
   "metadata": {},
   "source": [
    "Define the backtracking function"
   ]
  },
  {
   "cell_type": "code",
   "execution_count": 2,
   "metadata": {},
   "outputs": [],
   "source": [
    "def backtrack(row: int,\n",
    "              col: int,\n",
    "              die: Die,\n",
    "              score: int,\n",
    "              turn: int,\n",
    "              matrix: array,\n",
    "              visited_cells: dict[tuple[int, int], set[str]]) -> bool:\n",
    "    \"\"\"\n",
    "    Returns true if a satisfiable path has been found.\n",
    "    \"\"\"\n",
    "    # Check if you've already visited this cell with the same orientation\n",
    "    orientation: str = die.serialize()\n",
    "    if (row, col) not in visited_cells:\n",
    "        visited_cells[(row, col)]: set[str] = set()\n",
    "\n",
    "    if orientation in visited_cells[(row, col)]:\n",
    "        return False  # You've made no progress\n",
    "\n",
    "    # Remember the value of this cell\n",
    "    c: int = matrix[row][col]\n",
    "\n",
    "    # Check: Is there a number on this die-face?\n",
    "    index_of_top_face: int = die.index_of_top_face()\n",
    "\n",
    "    # Remember whether the top-face was set during this function call\n",
    "    top_face_number_set_here: bool = False\n",
    "\n",
    "    if turn > 0:\n",
    "        # Only check the equation after you've started moving\n",
    "        if not die.die_face_has_number(index_of_top_face):\n",
    "            # Since c = s + t x n, n exists iff t divides c - s\n",
    "            if (c - score) % turn == 0:\n",
    "                die.set_die_face_number(index_of_top_face, (c - score) // turn)\n",
    "                top_face_number_set_here = True\n",
    "            else:\n",
    "                # No integer will work as the die-face\n",
    "                return False\n",
    "\n",
    "        # Check: Given the number on the top-face, does the equation still hold?\n",
    "        if c != score + turn * die.get_die_face_number(index_of_top_face):\n",
    "            # We only enter this conditional if the die-face number was not set\n",
    "            # in this function call, because if it was, n would have been chosen\n",
    "            # by construction to satisfy the equation.\n",
    "            #\n",
    "            # Thus, we don't delete the die-face number here, because this face might be\n",
    "            # valid, just that the right path does not include this cell.\n",
    "            return False\n",
    "\n",
    "    visited_cells[(row, col)].add(orientation)\n",
    "\n",
    "    # Check: Are we on the last square?\n",
    "    if row == 0 and col == 5:\n",
    "        matrix[row][col] = 0 # Delete this number from the sum\n",
    "        return True\n",
    "\n",
    "    # Check: Does rolling left work?\n",
    "    die.tip_left()\n",
    "    if col > 0 and backtrack(row, col - 1, die, c, turn + 1, matrix, visited_cells):\n",
    "        matrix[row][col - 1] = 0\n",
    "        return True\n",
    "    die.tip_right()\n",
    "\n",
    "    # Check: Does rolling right work?\n",
    "    die.tip_right()\n",
    "    if col + 1 < len(matrix[0]) and backtrack(row, col + 1, die, c, turn + 1, matrix, visited_cells):\n",
    "        matrix[row][col + 1] = 0\n",
    "        return True\n",
    "    die.tip_left()\n",
    "\n",
    "    # Check: Does rolling up work?\n",
    "    die.tip_up()\n",
    "    if row > 0 and backtrack(row - 1, col, die, c, turn + 1, matrix, visited_cells):\n",
    "        matrix[row - 1][col] = 0\n",
    "        return True\n",
    "    die.tip_down()\n",
    "\n",
    "    # Check: Does rolling down work?\n",
    "    die.tip_down()\n",
    "    if row + 1 < len(matrix) and backtrack(row + 1, col, die, c, turn + 1, matrix, visited_cells):\n",
    "        matrix[row + 1][col] = 0\n",
    "        return True\n",
    "    die.tip_up()\n",
    "\n",
    "    # Everything failed. If you had set a die-face here, reset it.\n",
    "    if top_face_number_set_here:\n",
    "        die.die_face_numbers[index_of_top_face] = 0\n",
    "\n",
    "    # Deregister yourself from visited_cells\n",
    "    visited_cells[(row, col)].remove(orientation)\n",
    "    return False\n"
   ]
  },
  {
   "attachments": {},
   "cell_type": "markdown",
   "metadata": {},
   "source": [
    "Print the matrix before starting for comparison's sake"
   ]
  },
  {
   "cell_type": "code",
   "execution_count": 3,
   "metadata": {},
   "outputs": [
    {
     "name": "stdout",
     "output_type": "stream",
     "text": [
      "[[ 57  33 132 268 492 732]\n",
      " [ 81 123 240 443 353 508]\n",
      " [186  42 195 704 452 228]\n",
      " [ -7   2 357 452 317 395]\n",
      " [  5  23  -4 592 445 620]\n",
      " [  0  77  32 403 337 452]]\n"
     ]
    }
   ],
   "source": [
    "print(grid)"
   ]
  },
  {
   "attachments": {},
   "cell_type": "markdown",
   "metadata": {},
   "source": [
    "Run the backtracker"
   ]
  },
  {
   "cell_type": "code",
   "execution_count": 4,
   "metadata": {},
   "outputs": [
    {
     "name": "stdout",
     "output_type": "stream",
     "text": [
      "Failure\n"
     ]
    }
   ],
   "source": [
    "visited_cells: dict[tuple[int, int], set[str]] = {}\n",
    "print(\"Success\" if backtrack(row=5, col=0, die=Die(), score=0, turn=0, matrix=grid, visited_cells=visited_cells) else \"Failure\")"
   ]
  },
  {
   "attachments": {},
   "cell_type": "markdown",
   "metadata": {},
   "source": [
    "Set the cells to 0 if the die has visited it before"
   ]
  },
  {
   "cell_type": "code",
   "execution_count": 5,
   "metadata": {},
   "outputs": [
    {
     "name": "stdout",
     "output_type": "stream",
     "text": [
      "[[ 57  33 132 268 492 732]\n",
      " [ 81 123 240 443 353 508]\n",
      " [186  42 195 704 452 228]\n",
      " [ -7   2 357 452 317 395]\n",
      " [  5  23  -4 592 445 620]\n",
      " [  0  77  32 403 337 452]]\n",
      "{(5, 0): set(), (5, 1): set(), (5, 2): set(), (4, 1): set(), (4, 0): set(), (3, 0): set(), (3, 1): set(), (2, 0): set(), (4, 2): set(), (4, 3): set(), (4, 4): set(), (3, 3): set(), (3, 2): set(), (3, 4): set(), (2, 3): set(), (5, 3): set(), (2, 1): set(), (2, 2): set(), (1, 1): set(), (1, 0): set(), (1, 2): set(), (0, 1): set(), (0, 0): set(), (0, 2): set(), (0, 3): set(), (5, 4): set(), (5, 5): set(), (4, 5): set(), (3, 5): set(), (2, 4): set(), (2, 5): set(), (1, 3): set()}\n"
     ]
    }
   ],
   "source": [
    "print(grid)\n",
    "print(visited_cells)"
   ]
  }
 ],
 "metadata": {
  "kernelspec": {
   "display_name": "Python 3",
   "language": "python",
   "name": "python3"
  },
  "language_info": {
   "codemirror_mode": {
    "name": "ipython",
    "version": 3
   },
   "file_extension": ".py",
   "mimetype": "text/x-python",
   "name": "python",
   "nbconvert_exporter": "python",
   "pygments_lexer": "ipython3",
   "version": "3.10.6"
  },
  "orig_nbformat": 4,
  "vscode": {
   "interpreter": {
    "hash": "916dbcbb3f70747c44a77c7bcd40155683ae19c65e1c03b4aa3499c5328201f1"
   }
  }
 },
 "nbformat": 4,
 "nbformat_minor": 2
}
