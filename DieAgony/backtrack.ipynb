{
 "cells": [
  {
   "attachments": {},
   "cell_type": "markdown",
   "metadata": {},
   "source": [
    "Import all required libraries"
   ]
  },
  {
   "cell_type": "code",
   "execution_count": 8,
   "metadata": {},
   "outputs": [],
   "source": [
    "from die import Die\n",
    "from grid import grid\n",
    "from numpy import array"
   ]
  },
  {
   "attachments": {},
   "cell_type": "markdown",
   "metadata": {},
   "source": [
    "Define the backtracking function"
   ]
  },
  {
   "cell_type": "code",
   "execution_count": 7,
   "metadata": {},
   "outputs": [],
   "source": [
    "def backtrack(row: int,\n",
    "              col: int,\n",
    "              die: Die,\n",
    "              score: int,\n",
    "              turn: int,\n",
    "              grid: array) -> bool:\n",
    "    \"\"\"\n",
    "    Returns true if a satisfiable path has been found.\n",
    "    \"\"\"\n",
    "    # Check: Have we veered off-grid?\n",
    "    if row < 0 or row == len(grid):\n",
    "        return False\n",
    "\n",
    "    if col < 0 or col == len(grid[0]):\n",
    "        return False\n",
    "\n",
    "    # Check: Has this square been used already?\n",
    "    c: int = grid[row][col]\n",
    "    if c == 0:\n",
    "        # There's no point going back to an old square\n",
    "        # because that just means your score has not moved.\n",
    "        return False\n",
    "\n",
    "    # Check: Is there a number on this die-face?\n",
    "    index_of_top_face: int = die.index_of_top_face()\n",
    "    # Whether the top-face was set during this function call\n",
    "    top_face_number_set_here: bool = False\n",
    "\n",
    "    if not die.die_face_has_number(index_of_top_face):\n",
    "        # Since c = s + t x n, n exists iff t divides c - s\n",
    "        if (c - score) % turn == 0:\n",
    "            die.set_die_face_number(index_of_top_face, (c - score) // turn)\n",
    "            top_face_number_set_here = True\n",
    "        else:\n",
    "            # No integer will work as the die-face\n",
    "            return False\n",
    "\n",
    "    # Check: Given the number on the top-face, does the equation still hold?\n",
    "    if c != score + turn * die.get_die_face_number(index_of_top_face):\n",
    "        # We only enter this conditional if the die-face number was not set\n",
    "        # in this function call, because if it was, n would have been chosen\n",
    "        # by construction to satisfy the equation.\n",
    "        #\n",
    "        # Thus, we don't delete the die-face number here, but let the function-call\n",
    "        # that was responsible for this die-face delete it.\n",
    "        return False\n",
    "\n",
    "    # Mark this square as visited\n",
    "    grid[row][col] = 0\n",
    "\n",
    "    # Check: Are we on the last square?\n",
    "    if row == 0 and col == 5:\n",
    "        return True\n",
    "\n",
    "    # Check: Does rolling left work?\n",
    "    die.tip_left()\n",
    "    if backtrack(row, col - 1, die, c, turn + 1, grid):\n",
    "        return True\n",
    "    die.tip_right()\n",
    "\n",
    "    # Check: Does rolling right work?\n",
    "    die.tip_right()\n",
    "    if backtrack(row, col + 1, die, c, turn + 1, grid):\n",
    "        return True\n",
    "    die.tip_left()\n"
   ]
  }
 ],
 "metadata": {
  "kernelspec": {
   "display_name": "Python 3",
   "language": "python",
   "name": "python3"
  },
  "language_info": {
   "codemirror_mode": {
    "name": "ipython",
    "version": 3
   },
   "file_extension": ".py",
   "mimetype": "text/x-python",
   "name": "python",
   "nbconvert_exporter": "python",
   "pygments_lexer": "ipython3",
   "version": "3.10.6"
  },
  "orig_nbformat": 4,
  "vscode": {
   "interpreter": {
    "hash": "916dbcbb3f70747c44a77c7bcd40155683ae19c65e1c03b4aa3499c5328201f1"
   }
  }
 },
 "nbformat": 4,
 "nbformat_minor": 2
}
