{
 "cells": [
  {
   "attachments": {},
   "cell_type": "markdown",
   "metadata": {},
   "source": [
    "Import all required libraries"
   ]
  },
  {
   "cell_type": "code",
   "execution_count": null,
   "metadata": {},
   "outputs": [],
   "source": [
    "from die import Die\n",
    "from grid import grid\n",
    "from numpy import array, ndarray\n",
    "from collections import defaultdict"
   ]
  },
  {
   "attachments": {},
   "cell_type": "markdown",
   "metadata": {},
   "source": [
    "Define the backtracking function"
   ]
  },
  {
   "cell_type": "code",
   "execution_count": null,
   "metadata": {},
   "outputs": [],
   "source": [
    "def backtrack(row: int,\n",
    "              col: int,\n",
    "              die: Die,\n",
    "              score: int,\n",
    "              turn: int,\n",
    "              matrix: array) -> bool:\n",
    "    \"\"\"\n",
    "    Returns true if a satisfiable path has been found.\n",
    "    \"\"\"\n",
    "    # Remember the value of this cell\n",
    "    c: int = matrix[row][col]\n",
    "\n",
    "    # Remember whether the top-face was set during this function call\n",
    "    top_face_number_set_here: bool = False\n",
    "\n",
    "    if turn > 0:\n",
    "        if not die.top_face_has_number():\n",
    "            # Since c = s + t x n, n exists iff t divides c - s\n",
    "            if (c - score) % turn == 0:\n",
    "                die.set_top_face_number((c - score) // turn)\n",
    "                top_face_number_set_here = True\n",
    "            else:\n",
    "                # No integer will work as the die-face\n",
    "                return False\n",
    "\n",
    "    # Given the number on the top-face, does the equation still hold?\n",
    "    if c != score + turn * die.get_top_face_number():\n",
    "        # We only enter this conditional if the die-face number was not set\n",
    "        # in this function call, because if it was, n would have been chosen\n",
    "        # by construction to satisfy the equation.\n",
    "        #\n",
    "        # Thus, we don't delete the die-face number here, because this face might be\n",
    "        # valid, just that the right path does not include this cell.\n",
    "        return False\n",
    "\n",
    "    # Check: Are we on the last square?\n",
    "    if row == 0 and col == len(grid[0]) - 1:\n",
    "        return True\n",
    "\n",
    "    # Check: Does rolling up work?\n",
    "    die.tip_up()\n",
    "    if row > 0 and backtrack(row - 1, col, die, c, turn + 1, matrix):\n",
    "        matrix[row - 1][col] = 0\n",
    "        return True\n",
    "    die.tip_down()\n",
    "\n",
    "    # Check: Does rolling down work?\n",
    "    die.tip_down()\n",
    "    if row + 1 < len(matrix) and backtrack(row + 1, col, die, c, turn + 1, matrix):\n",
    "        matrix[row + 1][col] = 0\n",
    "        return True\n",
    "    die.tip_up()\n",
    "\n",
    "    # Check: Does rolling left work?\n",
    "    die.tip_left()\n",
    "    if col > 0 and backtrack(row, col - 1, die, c, turn + 1, matrix):\n",
    "        matrix[row][col - 1] = 0\n",
    "        return True\n",
    "    die.tip_right()\n",
    "\n",
    "    # Check: Does rolling right work?\n",
    "    die.tip_right()\n",
    "    if col + 1 < len(matrix[0]) and backtrack(row, col + 1, die, c, turn + 1, matrix):\n",
    "        matrix[row][col + 1] = 0\n",
    "        return True\n",
    "    die.tip_left()\n",
    "\n",
    "    # Everything failed. If you had set a die-face here, reset it.\n",
    "    if top_face_number_set_here:\n",
    "        die.set_top_face_number(0)\n",
    "\n",
    "    return False\n"
   ]
  },
  {
   "attachments": {},
   "cell_type": "markdown",
   "metadata": {},
   "source": [
    "Print the matrix before starting for comparison's sake"
   ]
  },
  {
   "cell_type": "code",
   "execution_count": null,
   "metadata": {},
   "outputs": [],
   "source": [
    "print(grid)"
   ]
  },
  {
   "attachments": {},
   "cell_type": "markdown",
   "metadata": {},
   "source": [
    "Run the backtracker"
   ]
  },
  {
   "cell_type": "code",
   "execution_count": null,
   "metadata": {},
   "outputs": [],
   "source": [
    "print(\"Success\" if backtrack(row=len(grid) - 1, col=0, die=Die(), score=0, turn=0, matrix=grid) else \"Failure\")"
   ]
  },
  {
   "attachments": {},
   "cell_type": "markdown",
   "metadata": {},
   "source": [
    "Set the cells to 0 if the die has visited it before"
   ]
  },
  {
   "cell_type": "code",
   "execution_count": null,
   "metadata": {},
   "outputs": [],
   "source": [
    "print(grid)\n",
    "print(sum(sum(row) for row in grid))"
   ]
  }
 ],
 "metadata": {
  "kernelspec": {
   "display_name": "Python 3",
   "language": "python",
   "name": "python3"
  },
  "language_info": {
   "codemirror_mode": {
    "name": "ipython",
    "version": 3
   },
   "file_extension": ".py",
   "mimetype": "text/x-python",
   "name": "python",
   "nbconvert_exporter": "python",
   "pygments_lexer": "ipython3",
   "version": "3.10.6"
  },
  "orig_nbformat": 4,
  "vscode": {
   "interpreter": {
    "hash": "916dbcbb3f70747c44a77c7bcd40155683ae19c65e1c03b4aa3499c5328201f1"
   }
  }
 },
 "nbformat": 4,
 "nbformat_minor": 2
}
