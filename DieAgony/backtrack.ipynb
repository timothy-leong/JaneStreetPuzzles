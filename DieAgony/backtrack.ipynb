{
 "cells": [
  {
   "attachments": {},
   "cell_type": "markdown",
   "metadata": {},
   "source": [
    "Import all required libraries"
   ]
  },
  {
   "cell_type": "code",
   "execution_count": 1,
   "metadata": {},
   "outputs": [],
   "source": [
    "from die import Die\n",
    "from grid import grid\n",
    "from numpy import array\n",
    "from numpy import ndarray"
   ]
  },
  {
   "attachments": {},
   "cell_type": "markdown",
   "metadata": {},
   "source": [
    "Define the backtracking function"
   ]
  },
  {
   "cell_type": "code",
   "execution_count": 2,
   "metadata": {},
   "outputs": [],
   "source": [
    "def backtrack(row: int,\n",
    "              col: int,\n",
    "              die: Die,\n",
    "              score: int,\n",
    "              turn: int,\n",
    "              grid: array) -> bool:\n",
    "    \"\"\"\n",
    "    Returns true if a satisfiable path has been found.\n",
    "    \"\"\"\n",
    "    # Remember the value of this cell\n",
    "    c: int = grid[row][col]\n",
    "\n",
    "    # Check: Is there a number on this die-face?\n",
    "    index_of_top_face: int = die.index_of_top_face()\n",
    "    # Remember whether the top-face was set during this function call\n",
    "    top_face_number_set_here: bool = False\n",
    "\n",
    "    if (row, col) != (5, 0):\n",
    "        if not die.die_face_has_number(index_of_top_face):\n",
    "            # Since c = s + t x n, n exists iff t divides c - s\n",
    "            if (c - score) % turn == 0:\n",
    "                die.set_die_face_number(index_of_top_face, (c - score) // turn)\n",
    "                top_face_number_set_here = True\n",
    "            else:\n",
    "                # No integer will work as the die-face\n",
    "                return False\n",
    "\n",
    "        # Check: Given the number on the top-face, does the equation still hold?\n",
    "        if c != score + turn * die.get_die_face_number(index_of_top_face):\n",
    "            # We only enter this conditional if the die-face number was not set\n",
    "            # in this function call, because if it was, n would have been chosen\n",
    "            # by construction to satisfy the equation.\n",
    "            #\n",
    "            # Thus, we don't delete the die-face number here, because we don't know\n",
    "            # how many cells in the path behind us relied on this die face, so we have to\n",
    "            # let the function-call that was responsible for this die-face delete it.\n",
    "            return False\n",
    "\n",
    "\n",
    "        # Mark this square as visited\n",
    "        grid[row][col] = 0\n",
    "\n",
    "    # Check: Are we on the last square?\n",
    "    if row == 0 and col == 5:\n",
    "        return True\n",
    "\n",
    "    # Check: Does rolling left work?\n",
    "    die.tip_left()\n",
    "    if col > 0 and grid[row][col - 1] != 0 and backtrack(row, col - 1, die, c, turn + 1, grid):\n",
    "        return True\n",
    "    die.tip_right()\n",
    "\n",
    "    # Check: Does rolling right work?\n",
    "    die.tip_right()\n",
    "    if col + 1 < len(grid[0]) and grid[row][col + 1] != 0 and backtrack(row, col + 1, die, c, turn + 1, grid):\n",
    "        return True\n",
    "    die.tip_left()\n",
    "\n",
    "    # Check: Does rolling up work?\n",
    "    die.tip_up()\n",
    "    if row > 0 and grid[row - 1][col] != 0 and backtrack(row - 1, col, die, c, turn + 1, grid):\n",
    "        return True\n",
    "    die.tip_down()\n",
    "\n",
    "    # Check: Does rolling down work?\n",
    "    die.tip_down()\n",
    "    if row + 1 < len(grid) and grid[row + 1][col] != 0 and backtrack(row + 1, col, die, c, turn + 1, grid):\n",
    "        return True\n",
    "    die.tip_up()\n",
    "\n",
    "    # Everything failed. If you had set a die-face here, reset it.\n",
    "    if top_face_number_set_here:\n",
    "        del die.die_face_numbers[index_of_top_face]\n",
    "\n",
    "    # Reset the cell (because you set it to 0) and then report the failure\n",
    "    grid[row][col] = c\n",
    "    return False\n"
   ]
  },
  {
   "attachments": {},
   "cell_type": "markdown",
   "metadata": {},
   "source": [
    "Print the grid before starting just for reference"
   ]
  },
  {
   "cell_type": "code",
   "execution_count": 3,
   "metadata": {},
   "outputs": [
    {
     "name": "stdout",
     "output_type": "stream",
     "text": [
      "[[ 57  33 132 268 492 732]\n",
      " [ 81 123 240 443 353 508]\n",
      " [186  42 195 704 452 228]\n",
      " [ -7   2 357 452 317 395]\n",
      " [  5  23  -4 592 445 620]\n",
      " [  0  77  32 403 337 452]]\n"
     ]
    }
   ],
   "source": [
    "print(grid)"
   ]
  },
  {
   "attachments": {},
   "cell_type": "markdown",
   "metadata": {},
   "source": [
    "Run the backtracker"
   ]
  },
  {
   "cell_type": "code",
   "execution_count": 7,
   "metadata": {},
   "outputs": [
    {
     "name": "stdout",
     "output_type": "stream",
     "text": [
      "Failure\n"
     ]
    }
   ],
   "source": [
    "print(\"Success\" if backtrack(row=5, col=0, die=Die(), score=0, turn=0, grid=grid) else \"Failure\")"
   ]
  },
  {
   "attachments": {},
   "cell_type": "markdown",
   "metadata": {},
   "source": [
    "Inspect the grid"
   ]
  },
  {
   "cell_type": "code",
   "execution_count": 5,
   "metadata": {},
   "outputs": [
    {
     "name": "stdout",
     "output_type": "stream",
     "text": [
      "[[ 57  33 132 268 492 732]\n",
      " [ 81 123 240 443 353 508]\n",
      " [186  42 195 704 452 228]\n",
      " [ -7   2 357 452 317 395]\n",
      " [  5  23  -4 592 445 620]\n",
      " [  0  77  32 403 337 452]]\n"
     ]
    }
   ],
   "source": [
    "print(grid)"
   ]
  }
 ],
 "metadata": {
  "kernelspec": {
   "display_name": "Python 3",
   "language": "python",
   "name": "python3"
  },
  "language_info": {
   "codemirror_mode": {
    "name": "ipython",
    "version": 3
   },
   "file_extension": ".py",
   "mimetype": "text/x-python",
   "name": "python",
   "nbconvert_exporter": "python",
   "pygments_lexer": "ipython3",
   "version": "3.10.6"
  },
  "orig_nbformat": 4,
  "vscode": {
   "interpreter": {
    "hash": "916dbcbb3f70747c44a77c7bcd40155683ae19c65e1c03b4aa3499c5328201f1"
   }
  }
 },
 "nbformat": 4,
 "nbformat_minor": 2
}
